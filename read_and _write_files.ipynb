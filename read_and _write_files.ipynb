{
 "cells": [
  {
   "cell_type": "code",
   "execution_count": 17,
   "metadata": {},
   "outputs": [],
   "source": [
    "import json\n",
    "\n",
    "purchase_dict = {}\n",
    "\n",
    "with open('/home/galchonkov/netology/pyda_homeworks/Downloads/purchase_log.txt') as p:\n",
    "    for pline in p:\n",
    "        purchase_data = json.loads(pline.strip())\n",
    "        purchase_dict[purchase_data['user_id']] = purchase_data['category']\n",
    "with open('/home/galchonkov/netology/pyda_homeworks/Downloads/visit_log.csv', 'r') as v, open('/home/galchonkov/netology/pyda_homeworks/Downloads/funnel.csv', 'w') as f:\n",
    "    for line in v:\n",
    "        parts = line.strip().split(',')\n",
    "        user_id = parts[0]\n",
    "        if user_id in purchase_dict:\n",
    "            category = purchase_dict[user_id]\n",
    "            parts.append(category)\n",
    "            f.write(','.join(parts) + '\\n')\n",
    "\n"
   ]
  }
 ],
 "metadata": {
  "kernelspec": {
   "display_name": "Python 3",
   "language": "python",
   "name": "python3"
  },
  "language_info": {
   "codemirror_mode": {
    "name": "ipython",
    "version": 3
   },
   "file_extension": ".py",
   "mimetype": "text/x-python",
   "name": "python",
   "nbconvert_exporter": "python",
   "pygments_lexer": "ipython3",
   "version": "3.9.2"
  },
  "orig_nbformat": 4
 },
 "nbformat": 4,
 "nbformat_minor": 2
}
