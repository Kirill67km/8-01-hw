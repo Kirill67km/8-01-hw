{
 "cells": [
  {
   "cell_type": "code",
   "execution_count": 1,
   "metadata": {},
   "outputs": [],
   "source": [
    "import json\n",
    "import json\n",
    "\n",
    "purchase_dict = {}\n",
    "\n",
    "with open('/home/galchonkov/netology/pyda_homeworks/Downloads/purchase_log.txt') as p, open('/home/galchonkov/netology/pyda_homeworks/Downloads/visit_log.csv') as v, open('/home/galchonkov/netology/pyda_homeworks/Downloads/funnel.csv', 'a') as f:\n",
    "    for pline in p:\n",
    "        purchase_data = json.loads(pline.strip())\n",
    "        purchase_dict[purchase_data['user_id']] = purchase_data['category']\n",
    "\n",
    "    for row in v:\n",
    "        line_list = row.strip().split(',')\n",
    "        if line_list[0] in purchase_dict:\n",
    "            line_list.append(purchase_dict[line_list[0]])\n",
    "        elif line_list[0] == 'user_id':\n",
    "            line_list.append('category')\n",
    "        add_line = ','.join(line_list)\n",
    "        f.write(add_line + '\\n')\n",
    "\n"
   ]
  }
 ],
 "metadata": {
  "kernelspec": {
   "display_name": "Python 3",
   "language": "python",
   "name": "python3"
  },
  "language_info": {
   "codemirror_mode": {
    "name": "ipython",
    "version": 3
   },
   "file_extension": ".py",
   "mimetype": "text/x-python",
   "name": "python",
   "nbconvert_exporter": "python",
   "pygments_lexer": "ipython3",
   "version": "3.9.2"
  },
  "orig_nbformat": 4
 },
 "nbformat": 4,
 "nbformat_minor": 2
}
