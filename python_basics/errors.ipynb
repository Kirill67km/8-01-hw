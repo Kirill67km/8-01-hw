{
 "cells": [
  {
   "cell_type": "markdown",
   "metadata": {},
   "source": [
    "#Задание\n",
    "\n",
    "##Вопросы по заданию\n",
    "В этом разделе можно задать вопросы и получить ответ.\n",
    "Преподаватель: Константин Башевой"
   ]
  },
  {
   "cell_type": "markdown",
   "metadata": {},
   "source": [
    "##Задание 1\n",
    "\n",
    "Печатные газеты использовали свой формат дат для каждого выпуска. Для каждой газеты из списка напишите формат указанной даты для перевода в объект datetime:\n",
    "The Moscow Times — Wednesday, October 2, 2002\n",
    "The Guardian — Friday, 11.10.13\n",
    "Daily News — Thursday, 18 August 1977"
   ]
  },
  {
   "cell_type": "code",
   "execution_count": 12,
   "metadata": {},
   "outputs": [
    {
     "name": "stdout",
     "output_type": "stream",
     "text": [
      "2002-10-02 00:00:00\n",
      "2013-10-11 00:00:00\n",
      "1977-08-18 00:00:00\n"
     ]
    }
   ],
   "source": [
    "import datetime\n",
    "\n",
    "tmt = 'Wednesday, October 2, 2002'\n",
    "tg = 'Friday, 11.10.13'\n",
    "dn = 'Thursday, 18 August 1977'\n",
    "\n",
    "print(datetime.datetime.strptime(tmt, \"%A, %B %d, %Y\"))\n",
    "print(datetime.datetime.strptime(tg, \"%A, %d.%m.%y\"))\n",
    "print(datetime.datetime.strptime(dn, \"%A, %d %B %Y\"))\n"
   ]
  },
  {
   "cell_type": "markdown",
   "metadata": {},
   "source": [
    "##Задание 2\n",
    "\n",
    "Дан поток дат в формате YYYY-MM-DD, в которых встречаются некорректные значения:\n",
    "stream = [‘2018-04-02’, ‘2018-02-29’, ‘2018-19-02’]\n",
    "\n",
    "Напишите функцию, которая проверяет эти даты на корректность. То есть для каждой даты возвращает True — дата корректна или False — некорректная."
   ]
  },
  {
   "cell_type": "code",
   "execution_count": 39,
   "metadata": {},
   "outputs": [
    {
     "name": "stdout",
     "output_type": "stream",
     "text": [
      "True\n",
      "False\n",
      "False\n"
     ]
    }
   ],
   "source": [
    "import datetime\n",
    "\n",
    "stream = ['2018-04-02', '2018-02-29', '2018-19-02']\n",
    "\n",
    "def check_date(stream):\n",
    "    for our_date in stream:\n",
    "        try:\n",
    "            datetime.datetime.strptime(our_date, '%Y-%m-%d')\n",
    "            print('True')\n",
    "        except ValueError:\n",
    "            print('False')\n",
    "\n",
    "check_date(stream)\n"
   ]
  },
  {
   "cell_type": "markdown",
   "metadata": {},
   "source": [
    "##Задание 3\n",
    "\n",
    "Напишите функцию date_range, которая возвращает список дат за период от start_date до end_date. Даты должны вводиться в формате YYYY-MM-DD. В случае неверного формата или при start_date > end_date должен возвращаться пустой список."
   ]
  },
  {
   "cell_type": "code",
   "execution_count": 13,
   "metadata": {},
   "outputs": [
    {
     "data": {
      "text/plain": [
       "['2023-10-01',\n",
       " '2023-10-02',\n",
       " '2023-10-03',\n",
       " '2023-10-04',\n",
       " '2023-10-05',\n",
       " '2023-10-06',\n",
       " '2023-10-07',\n",
       " '2023-10-08',\n",
       " '2023-10-09',\n",
       " '2023-10-10',\n",
       " '2023-10-11']"
      ]
     },
     "execution_count": 13,
     "metadata": {},
     "output_type": "execute_result"
    }
   ],
   "source": [
    "import datetime\n",
    "\n",
    "start_date = input ('Введите начальную дату в формате YYYY-MM-DD: ')\n",
    "end_date = input ('Введите конечную дату в формате YYYY-MM-DD: ')\n",
    "\n",
    "def date_range():\n",
    "    error_list = []\n",
    "    try:\n",
    "        start_date_2 = datetime.datetime.strptime(start_date, '%Y-%m-%d')\n",
    "        end_date_2 = datetime.datetime.strptime(end_date, '%Y-%m-%d')\n",
    "        step = datetime.timedelta(days=1)\n",
    "        while start_date_2 <= end_date_2:\n",
    "            #print(start_date_2)\n",
    "            error_list.append(datetime.datetime.strftime(start_date_2, '%Y-%m-%d'))\n",
    "            start_date_2 += step\n",
    "        return error_list\n",
    "    except ValueError:\n",
    "        print(error_list)\n",
    "\n",
    "date_range()"
   ]
  },
  {
   "cell_type": "markdown",
   "metadata": {},
   "source": [
    "##Задание 4 (необязательное)\n",
    "\n",
    "Ваш коллега прислал код функции:\n",
    "\n",
    "Однако при повторном вызове получается ошибка IndexError: list index out of range."
   ]
  },
  {
   "cell_type": "code",
   "execution_count": null,
   "metadata": {},
   "outputs": [],
   "source": [
    "DEFAULT_USER_COUNT = 3\n",
    "\n",
    "def delete_and_return_last_user(region, default_list=['A100', 'A101', 'A102']):\n",
    "    \n",
    "\"\"\"\n",
    "Удаляет из списка default_list последнего пользователя\n",
    "и возвращает ID нового последнего пользователя.\n",
    "\"\"\"\n",
    "\n",
    "element_to_delete = default_list[-1]\n",
    "default_list.remove(element_to_delete)\n",
    "\n",
    "1\n",
    "return default_list[DEFAULT_USER_COUNT-2]\n",
    "#При однократном вызове этой функции всё работает корректно:\n",
    "delete_and_return_last_user(1)\n",
    "'A101'"
   ]
  },
  {
   "cell_type": "markdown",
   "metadata": {},
   "source": [
    "Задание:\n",
    "\n",
    "Что значит ошибка list index out of range?\n",
    "\n",
    "\n",
    "\n",
    "Почему при первом запуске функция работает корректно, а при втором — нет?"
   ]
  },
  {
   "cell_type": "markdown",
   "metadata": {},
   "source": []
  }
 ],
 "metadata": {
  "kernelspec": {
   "display_name": "Python 3",
   "language": "python",
   "name": "python3"
  },
  "language_info": {
   "codemirror_mode": {
    "name": "ipython",
    "version": 3
   },
   "file_extension": ".py",
   "mimetype": "text/x-python",
   "name": "python",
   "nbconvert_exporter": "python",
   "pygments_lexer": "ipython3",
   "version": "3.9.2"
  },
  "orig_nbformat": 4
 },
 "nbformat": 4,
 "nbformat_minor": 2
}
