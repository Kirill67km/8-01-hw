{
 "cells": [
  {
   "cell_type": "markdown",
   "metadata": {},
   "source": [
    "#Домашнее задание\n",
    "\n",
    "##Задание 1\n",
    "\n",
    "Напишите функцию, которая возвращает название валюты (поле ‘Name’) с максимальным значением курса с помощью сервиса www.cbr-xml-daily.ru...ly_json.js"
   ]
  },
  {
   "cell_type": "code",
   "execution_count": 31,
   "metadata": {},
   "outputs": [
    {
     "name": "stdout",
     "output_type": "stream",
     "text": [
      "Доллар США имеет максимальный показатель - 92.7826\n"
     ]
    }
   ],
   "source": [
    "import requests\n",
    "import json\n",
    "\n",
    "def get_value(valute):  \n",
    "    \"\"\"Получение максимального значения валюты\"\"\"\n",
    "\n",
    "    full_data = requests.get('https://www.cbr-xml-daily.ru/daily_json.js').json()\n",
    "    current_value = full_data['Valute'][valute]['Value']\n",
    "    previous_value = full_data['Valute'][valute]['Previous']\n",
    "    name = full_data['Valute'][valute]['Name']\n",
    "\n",
    "    if current_value > previous_value:\n",
    "        max_value = current_value\n",
    "        return print(f'{name} имеет максимальный показатель - {max_value}')\n",
    "    else:\n",
    "        max_value = previous_value\n",
    "        return print(f'{name} имеет максимальный показатель - {max_value}')\n",
    "\n",
    "get_value('USD')\n",
    "\n"
   ]
  },
  {
   "cell_type": "markdown",
   "metadata": {},
   "source": [
    "#Задание 2\n",
    "\n",
    "##Добавьте в класс Rate параметр diff (со значениями True или False), который в случае значения True в методах курсов валют (eur, usd итд) будет возвращать не курс валюты, а изменение по сравнению в прошлым значением. Считайте, self.diff будет принимать значение True только при возврате значения курса. При отображении всей информации о валюте он не используется."
   ]
  },
  {
   "cell_type": "code",
   "execution_count": 45,
   "metadata": {},
   "outputs": [
    {
     "data": {
      "text/plain": [
       "-0.2172000000000054"
      ]
     },
     "execution_count": 45,
     "metadata": {},
     "output_type": "execute_result"
    }
   ],
   "source": [
    "import requests\n",
    "import json\n",
    "\n",
    "class Rate:\n",
    "       \n",
    "    def __init__(self, format_ = 'full', diff_ = False):\n",
    "        \"\"\"Задаем переменную и параметры \"\"\"\n",
    "        self.format = format_\n",
    "        self.diff = diff_\n",
    "\n",
    "    def exchange_values(self):  \n",
    "        \"\"\"Получение информации о курсе на текущий день \n",
    "        \n",
    "        Результат вывода:\n",
    "        {'AUD': {'ID': 'R01010',\n",
    "        'NumCode': '036',\n",
    "        'CharCode': 'AUD',\n",
    "        'Nominal': 1,\n",
    "        'Name': 'Австралийский доллар',\n",
    "        'Value': 60.4359,\n",
    "        'Previous': 61.0602}}\n",
    "\n",
    "        \"\"\"\n",
    "\n",
    "        full_data = requests.get('https://www.cbr-xml-daily.ru/daily_json.js').json()\n",
    "        exchange_info = full_data['Valute']\n",
    "        return exchange_info\n",
    "    \n",
    "    def make_diff(self, currency):\n",
    "        \"\"\"Получение информации о курсе в зависимости от введенных параметров \n",
    "        \n",
    "        Результат вывода, если нет такой валюты :\n",
    "        'Ошибка'\n",
    "        \n",
    "        Результат вывода, если self.format == 'full' :\n",
    "        {'AUD': {'ID': 'R01010',\n",
    "        'NumCode': '036',\n",
    "        'CharCode': 'AUD',\n",
    "        'Nominal': 1,\n",
    "        'Name': 'Австралийский доллар',\n",
    "        'Value': 60.4359,\n",
    "        'Previous': 61.0602}}\n",
    "        ...\n",
    "\n",
    "        Результат вывода, если self.format == 'value', diff_ == False:\n",
    "        92.5654 (текущий курс)\n",
    "\n",
    "        Результат вывода, если self.format == 'value', diff_ == True:\n",
    "        -0.2172000000000054 (разница текущего показателя с предыдущим значением)        \n",
    "        \"\"\"\n",
    "\n",
    "        response = r.exchange_values()\n",
    "\n",
    "        if currency in response:\n",
    "            current_value = response[currency]['Value']\n",
    "            previous_value = response[currency]['Previous']\n",
    "            if self.format == 'full':\n",
    "                return response\n",
    "            if self.format == 'value':\n",
    "                if self.diff:\n",
    "                    different_value = current_value - previous_value\n",
    "                    return different_value\n",
    "                else:\n",
    "                    return response[currency]['Value']\n",
    "        return 'Ошибка'\n",
    "\n",
    "    def show_current_format(self):\n",
    "        \"\"\"Получение информации о формате вывода информации \"\"\"\n",
    "        return self.format\n",
    "    \n",
    "r = Rate(format_ = 'value', diff_ = True)\n",
    "\n",
    "r.make_diff('USD')"
   ]
  },
  {
   "cell_type": "markdown",
   "metadata": {},
   "source": [
    "#Задание 3\n",
    "\n",
    "##Напишите класс Designer, который учитывает количество международных премий. Подсказки в коде занятия (“Ноутбук к лекциям «Понятие класса» + презентация”, zip-файл “Используемый ноутбук к лекциям «Понятие класса»)\n",
    "\n",
    "##Комментарий по классу Designer такой:\n",
    "Напишите класс Designer, который учитывает количество международных премий для дизайнеров (из презентации: “Повышение на 1 грейд за каждые 7 баллов. Получение международной премии – это +2 балла”). Считайте, что при выходе на работу сотрудник уже имеет две премии и их количество не меняется со стажем (конечно если хотите это можно вручную менять).\n",
    "\n",
    "Класс Designer пишется по аналогии с классом Developer из материалов занятия.\n",
    "\n"
   ]
  },
  {
   "cell_type": "code",
   "execution_count": null,
   "metadata": {},
   "outputs": [],
   "source": [
    "class Employee:\n",
    "    def __init__(self, name, seniority):\n",
    "        self.name = name\n",
    "        self.seniority = seniority\n",
    "        \n",
    "        self.grade = 1\n",
    "    \n",
    "    def grade_up(self):\n",
    "        \"\"\"Повышает уровень сотрудника\"\"\"\n",
    "        self.grade += 1\n",
    "    \n",
    "    def publish_grade(self):\n",
    "        \"\"\"Публикация результатов аккредитации сотрудников\"\"\"\n",
    "        print(self.name, self.grade)\n",
    "    \n",
    "    def check_if_it_is_time_for_upgrade(self):\n",
    "        pass\n",
    "\n",
    "class Developer(Employee):\n",
    "    def __init__(self, name, seniority):\n",
    "        super().__init__(name, seniority)\n",
    "    \n",
    "    def check_if_it_is_time_for_upgrade(self):\n",
    "        # для каждой аккредитации увеличиваем счетчик на 1\n",
    "        # пока считаем, что все разработчики проходят аккредитацию\n",
    "        self.seniority += 1\n",
    "        \n",
    "        # условие повышения сотрудника из презентации\n",
    "        if self.seniority % 5 == 0:\n",
    "            self.grade_up()\n",
    "        \n",
    "        # публикация результатов\n",
    "        return self.publish_grade()\n",
    "    \n",
    "class Designer(Employee):\n",
    "    def __init__(self, name, seniority, awards=2):\n",
    "        # Вызываем конструктор родительского класса и передаем ему имя и стаж\n",
    "        super().__init__(name, seniority)\n",
    "        # Добавляем новое поле awards, которое отражает количество международных премий\n",
    "        self.awards = awards\n",
    "\n",
    "    def check_if_it_is_time_for_upgrade(self):\n",
    "        # Увеличиваем стаж дизайнера на 1\n",
    "        self.seniority += 1\n",
    "\n",
    "        # Добавляем баллы за каждую премию (по условию 2 балла за каждую премию)\n",
    "        self.seniority += 2 * self.awards\n",
    "\n",
    "        # Условие повышения дизайнера (например, каждые 7 баллов стажа)\n",
    "        if self.seniority % 7 == 0:\n",
    "            self.grade_up()\n",
    "\n",
    "        # Публикация результатов\n",
    "        return self.publish_grade()\n",
    "\n",
    "    def add_award(self):\n",
    "        # Метод для добавления новой международной премии дизайнеру\n",
    "        self.awards += 1\n"
   ]
  }
 ],
 "metadata": {
  "kernelspec": {
   "display_name": "Python 3",
   "language": "python",
   "name": "python3"
  },
  "language_info": {
   "codemirror_mode": {
    "name": "ipython",
    "version": 3
   },
   "file_extension": ".py",
   "mimetype": "text/x-python",
   "name": "python",
   "nbconvert_exporter": "python",
   "pygments_lexer": "ipython3",
   "version": "3.9.2"
  },
  "orig_nbformat": 4
 },
 "nbformat": 4,
 "nbformat_minor": 2
}
