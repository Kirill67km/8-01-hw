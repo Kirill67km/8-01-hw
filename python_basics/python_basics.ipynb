{
 "cells": [
  {
   "cell_type": "markdown",
   "metadata": {},
   "source": [
    "# Домашнее задание к лекции \"Основы Python\""
   ]
  },
  {
   "cell_type": "markdown",
   "metadata": {},
   "source": [
    "## Задание 1"
   ]
  },
  {
   "cell_type": "markdown",
   "metadata": {},
   "source": [
    "Даны 2 переменных, в которых хранятся строки произвольной длины: *phrase_1* и *phrase_2*.  \n",
    "Напишите код, который проверяет какая из этих строк длиннее."
   ]
  },
  {
   "cell_type": "markdown",
   "metadata": {},
   "source": [
    "Примеры работы программы:  \n",
    "1.  \n",
    "\n",
    "```\n",
    "phrase_1 = 'Насколько проще было бы писать программы, если бы не заказчики'\n",
    "phrase_2 = '640Кб должно хватить для любых задач. Билл Гейтс (по легенде)'\n",
    "\n",
    "```\n",
    "\n",
    "Результат:  \n",
    "`Фраза 1 длиннее фразы 2`\n",
    "2.     \n",
    "\n",
    "```\n",
    "phrase_1 = '640Кб должно хватить для любых задач. Билл Гейтс (по легенде)'\n",
    "phrase_2 = 'Насколько проще было бы писать программы, если бы не заказчики'\n",
    "```\n",
    "\n",
    "Результат:  \n",
    "`Фраза 2 длиннее фразы 1`\n",
    "3.     \n",
    "\n",
    "```\n",
    "phrase_1 = 'Насколько проще было бы писать программы, если бы не заказчики'\n",
    "phrase_2 = 'Насколько проще было бы писать программы, если бы не заказчики'\n",
    "```\n",
    "\n",
    "Результат:  \n",
    "`Фразы равной длины`"
   ]
  },
  {
   "cell_type": "code",
   "execution_count": null,
   "metadata": {},
   "outputs": [],
   "source": [
    "phrase_1 = 'Насколько проще было бы писать программы, если бы не заказчики'\n",
    "phrase_2 = 'Насколько проще было бы писать программы, если бы точно не заказчики'\n",
    "\n",
    "if len(phrase_1) == len(phrase_2):\n",
    "    print('Фразы равной длины')\n",
    "elif len(phrase_1) > len(phrase_2):\n",
    "    print('Первая фраза длиннее второй')\n",
    "else:\n",
    "    print('Вторая фраза длинне первой')"
   ]
  },
  {
   "cell_type": "markdown",
   "metadata": {},
   "source": [
    "## Задание 2"
   ]
  },
  {
   "cell_type": "markdown",
   "metadata": {},
   "source": [
    "Дана переменная, в которой хранится число (год). Необходимо написать программу, которая выведет, является ли данный год високосным или обычным.\n",
    "\n",
    "Пример работы программы:\n",
    "1.  \n",
    "\n",
    "```\n",
    "year = 2020\n",
    "```\n",
    "Результат:  \n",
    "`Високосный год` \n",
    "\n",
    "2.  \n",
    "\n",
    "```\n",
    "year = 2019\n",
    "```\n",
    "Результат:  \n",
    "`Обычный год` "
   ]
  },
  {
   "cell_type": "code",
   "execution_count": null,
   "metadata": {},
   "outputs": [],
   "source": [
    "year = 2023\n",
    "\n",
    "if year % 4 == 0 and not year % 100 == 0:\n",
    "    print('Високосный год')\n",
    "else:\n",
    "    print('Год обычный')"
   ]
  },
  {
   "cell_type": "markdown",
   "metadata": {},
   "source": [
    "## Задание 3"
   ]
  },
  {
   "cell_type": "markdown",
   "metadata": {},
   "source": [
    "Необходимо написать программу, которая будет запрашивать у пользователя месяц и дату рождения и выводить соответствующий знак зодиака.\n",
    "\n",
    "Пример работы программы:  \n",
    "1.  \n",
    "\n",
    "```\n",
    "Введите день:\n",
    "30\n",
    "\n",
    "Введите месяц:\n",
    "Август\n",
    "```\n",
    "Результат:  \n",
    "`Ваш знак зодиака: Дева` \n",
    "\n",
    "2.  \n",
    "\n",
    "```\n",
    "Введите день:\n",
    "29\n",
    "\n",
    "Введите месяц:\n",
    "Октябрь\n",
    "```\n",
    "Результат:  \n",
    "`Ваш знак зодиака: Скорпион` \n"
   ]
  },
  {
   "cell_type": "code",
   "execution_count": null,
   "metadata": {},
   "outputs": [],
   "source": [
    "day_of_birthday = int(input('Введите день рождения: '))\n",
    "month_of_birthday = input('Введите месяц рождения: ')\n",
    "\n",
    "if 21<=day_of_birthday<=31  and month_of_birthday == 'Март' or 1<=day_of_birthday<=19 and month_of_birthday == 'Апрель':\n",
    "    print('Ваш знак зодиака овен')\n",
    "elif 20<=day_of_birthday<=30  and month_of_birthday == 'Апрель' or 1<=day_of_birthday<=20 and month_of_birthday == 'Май':\n",
    "    print('Ваш знак зодиака телец')\n",
    "elif 21<=day_of_birthday<=31  and month_of_birthday == 'Май' or 1<=day_of_birthday<=21 and month_of_birthday == 'Июнь':\n",
    "    print('Ваш знак зодиака близнецы')\n",
    "elif 22<=day_of_birthday<=30  and month_of_birthday == 'Июнь' or 1<=day_of_birthday<=22 and month_of_birthday == 'Июль':\n",
    "    print('Ваш знак зодиака рак')\n",
    "elif 23<=day_of_birthday<=31  and month_of_birthday == 'Июль' or 1<=day_of_birthday<=22 and month_of_birthday == 'Август':\n",
    "    print('Ваш знак зодиака лев')\n",
    "elif 23<=day_of_birthday<=31  and month_of_birthday == 'Август' or 1<=day_of_birthday<=22 and month_of_birthday == 'Сентябрь':\n",
    "    print('Ваш знак зодиака дева')\n",
    "elif 23<=day_of_birthday<=30  and month_of_birthday == 'Сентябрь' or 1<=day_of_birthday<=23 and month_of_birthday == 'Октябрь':\n",
    "    print('Ваш знак зодиака весы')\n",
    "elif 24<=day_of_birthday<=31  and month_of_birthday == 'Октябрь' or 1<=day_of_birthday<=22 and month_of_birthday == 'Ноябрь':\n",
    "    print('Ваш знак зодиака скорпион')\n",
    "elif 23<=day_of_birthday<=30  and month_of_birthday == 'Ноябрь' or 1<=day_of_birthday<=21 and month_of_birthday == 'Декабрь':\n",
    "    print('Ваш знак зодиака стрелец')\n",
    "elif 22<=day_of_birthday<=31  and month_of_birthday == 'Декабрь' or 1<=day_of_birthday<=20 and month_of_birthday == 'Январь':\n",
    "    print('Ваш знак зодиака козерог')\n",
    "elif 21<=day_of_birthday<=31  and month_of_birthday == 'Январь' or 1<=day_of_birthday<=18 and month_of_birthday == 'Февраль':\n",
    "    print('Ваш знак зодиака водолей')\n",
    "else:\n",
    "    print('Ваш знак зодиака рыбы')\n"
   ]
  },
  {
   "cell_type": "markdown",
   "metadata": {},
   "source": [
    "## Задание 4"
   ]
  },
  {
   "cell_type": "markdown",
   "metadata": {},
   "source": [
    "Вам нужно написать программу для подбора упаковок по размерам товара. Размеры (ширина, длина, высота) хранятся в переменных (в сантиметрах):\n",
    "\n",
    "Используйте следующие правила:\n",
    "- если каждое из трех измерений менее или равно 15 сантиметрам, то выведите на экран \"Коробка №1\";\n",
    "- если **хотя бы одно** из измерений больше 2 метров, то выводите \"Упаковка для лыж\";\n",
    "- если **хотя бы одно** из измерений больше 15 сантиметров, но менее 50 сантиметров, то выводите \"Коробка №2\";\n",
    "- во всех остальных случаях выводите \"Коробка №3\".\n",
    "\n",
    "Пример работы программы:  \n",
    "1.  \n",
    "\n",
    "```\n",
    "width = 15\n",
    "length = 55\n",
    "height = 15\n",
    "```\n",
    "Результат:  \n",
    "`Коробка №3` \n",
    "\n",
    "2.  \n",
    "\n",
    "```\n",
    "width = 45\n",
    "length = 205\n",
    "height = 45\n",
    "```\n",
    "Результат:  \n",
    "`Упаковка для лыж` "
   ]
  },
  {
   "cell_type": "code",
   "execution_count": null,
   "metadata": {},
   "outputs": [],
   "source": [
    "width = int(input('Введите ширину в см: '))\n",
    "length = int(input('Введите длину в сантиметрах: '))\n",
    "height = int(input('Введите высоту в сантиметрах: '))\n",
    "\n",
    "if length <= 15 and width <= 15 and height <= 15:\n",
    "    print('Коробка №1')\n",
    "elif length >= 200 or width >= 200 or height >= 200:\n",
    "    print('Упаковка для лыж')\n",
    "elif 15 < length < 50 or 15 < width < 50 or 15 < height < 50:\n",
    "    print('Коробка №2')\n",
    "else:\n",
    "    print('Коробка №3')"
   ]
  },
  {
   "cell_type": "markdown",
   "metadata": {},
   "source": [
    "## Задание 5 (необязательное)"
   ]
  },
  {
   "cell_type": "markdown",
   "metadata": {},
   "source": [
    "Дана переменная, в которой хранится шестизначное число (номер проездного билета). Напишите программу, которая будет определять, является ли данный билет \"счастливым\". Билет считается счастливым, если сумма первых трех цифр совпадает с суммой последних трех цифр номера.   \n",
    "\n",
    "Примеры работы программы:  \n",
    "1. ```number = 123456```\n",
    "\n",
    "Результат:  \n",
    "`Несчастливый билет`  \n",
    "  \n",
    "2. ```number = 123321```\n",
    "\n",
    "Результат:  \n",
    "`Счастливый билет`\n"
   ]
  },
  {
   "cell_type": "code",
   "execution_count": null,
   "metadata": {},
   "outputs": [],
   "source": [
    "number = input('Введите шестизначное число: ')\n",
    "\n",
    "first_digit = number[0]\n",
    "second_digit = number[1]\n",
    "third_digit = number[2]\n",
    "fourth_digit = number[3]\n",
    "fifth_digit = number[4]\n",
    "sixth_digit = number[5]\n",
    "\n",
    "if int(first_digit) + int(second_digit) + int(third_digit) == int(fourth_digit) + int(fifth_digit) + int(sixth_digit):\n",
    "    print('Счастливый билет')\n",
    "else:\n",
    "    print('Несчастливый билет')\n",
    "\n",
    "\n",
    "    \n",
    "\n"
   ]
  },
  {
   "cell_type": "markdown",
   "metadata": {},
   "source": [
    "## Задание 6 (необязательное)"
   ]
  },
  {
   "cell_type": "markdown",
   "metadata": {},
   "source": [
    "Напишите программу, которая сможет вычислять площади трех фигур (круг, треугольник и прямоугольник).\n",
    "Тип фигуры запрашиваем через пользовательский ввод, после чего делаем запрос характеристик фигуры:\n",
    "\n",
    "- если пользователь выбрал круг, запрашиваем его радиус,\n",
    "- если треугольник – длины трех его сторон;\n",
    "- если прямоугольник – длины двух его сторон.\n",
    "\n",
    "Пример работы программы:  \n",
    "1.  \n",
    "\n",
    "```\n",
    "Введите тип фигуры:\n",
    "Круг\n",
    "\n",
    "Введите радиус круга:\n",
    "10\n",
    "```\n",
    "Результат:  \n",
    "`Площадь круга: 314.16`  \n",
    "\n",
    "2.  \n",
    "\n",
    "```\n",
    "Введите тип фигуры:\n",
    "Треугольник\n",
    "\n",
    "Введите длину стороны A:\n",
    "2\n",
    "\n",
    "Введите длину стороны B:\n",
    "2\n",
    "\n",
    "Введите длину стороны C:\n",
    "3\n",
    "```\n",
    "Результат:  \n",
    "`Площадь треугольника: 1.98`"
   ]
  },
  {
   "cell_type": "code",
   "execution_count": 10,
   "metadata": {},
   "outputs": [
    {
     "name": "stdout",
     "output_type": "stream",
     "text": [
      "Площадь круга:  314.16\n"
     ]
    }
   ],
   "source": [
    "type_of_figure = input('Введите тип фигуры: ')\n",
    "\n",
    "if type_of_figure == 'Круг':\n",
    "    pi = 3.1416\n",
    "    radius_of_circle = int(input('Введите радиус круга: '))\n",
    "    square_of_circle = pi * radius_of_circle**2\n",
    "    print('Площадь круга: ', round(square_of_circle, 2))\n",
    "elif type_of_figure == 'Треугольник':\n",
    "    side_a = int(input('Введите длину стороны А: '))\n",
    "    side_b = int(input('Введите длину стороны B: '))\n",
    "    side_c = int(input('Введите длину стороны C: '))\n",
    "    perimeter_of_triangle = side_a + side_b + side_c\n",
    "    half_of_perimeter = perimeter_of_triangle / 2\n",
    "    square_of_triangle = (half_of_perimeter*(half_of_perimeter - side_a) * (half_of_perimeter - side_b) * (half_of_perimeter - side_c) * 0.5)\n",
    "    print('Площадь треугольника: ', round(square_of_triangle,2))\n",
    "else:\n",
    "    type_of_figure == 'Прямоугольник'\n",
    "    side_a = int(input('Введите длину стороны А: '))\n",
    "    side_b = int(input('Введите длину стороны B: '))\n",
    "    square_of_rectangle = side_a * side_b\n",
    "    print('Площадь прямоугольника: ', square_of_rectangle)\n",
    "\n",
    "        \n",
    "        "
   ]
  },
  {
   "cell_type": "markdown",
   "metadata": {},
   "source": [
    "#### ПРИМЕЧАНИЕ\n",
    "Домашнее задание сдается ссылкой [Google Colab](https://colab.research.google.com/).\n",
    "Не сможем проверить или помочь, если вы пришлете:\n",
    "- файлы;\n",
    "- архивы;\n",
    "- скриншоты кода.\n",
    "\n",
    "Все обсуждения и консультации по выполнению домашнего задания ведутся только на соответствующем канале в Discord.\n",
    "\n",
    "##### Как правильно задавать вопросы аспирантам, преподавателям и коллегам\n",
    "Прежде чем задать вопрос, попробуйте найти ответ в интернете. Навык самостоятельного поиска информации — один из важнейших. Каждый практикующий специалист любого уровня делает это ежедневно.\n",
    "\n",
    "Сформулируйте вопрос по алгоритму:  \n",
    "1) Что я делаю?  \n",
    "2) Какого результата я ожидаю?  \n",
    "3) Как фактический результат отличается от ожидаемого?  \n",
    "4) Что я уже попробовал сделать, чтобы исправить проблему?  \n",
    "\n",
    "По возможности прикрепите к вопросу скриншоты либо ссылки на код. Не выкладывайте все решение, оставляйте только проблемный и воспроизводимый участок кода."
   ]
  }
 ],
 "metadata": {
  "kernelspec": {
   "display_name": "Python 3",
   "language": "python",
   "name": "python3"
  },
  "language_info": {
   "codemirror_mode": {
    "name": "ipython",
    "version": 3
   },
   "file_extension": ".py",
   "mimetype": "text/x-python",
   "name": "python",
   "nbconvert_exporter": "python",
   "pygments_lexer": "ipython3",
   "version": "3.9.2"
  }
 },
 "nbformat": 4,
 "nbformat_minor": 2
}
